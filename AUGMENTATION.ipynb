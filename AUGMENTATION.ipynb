{
 "cells": [
  {
   "cell_type": "code",
   "execution_count": 1,
   "id": "c8582450",
   "metadata": {},
   "outputs": [],
   "source": [
    "from os import listdir\n",
    "from pickle import dump\n",
    "from keras.applications.inception_v3 import InceptionV3\n",
    "from keras.preprocessing.image import load_img\n",
    "from keras.preprocessing.image import img_to_array\n",
    "from keras.applications.inception_v3 import preprocess_input\n",
    "from keras.models import Model\n",
    "import string\n",
    "from timeit import default_timer as timer\n",
    "from PIL import Image\n",
    "import sys"
   ]
  },
  {
   "cell_type": "code",
   "execution_count": 2,
   "id": "85847164",
   "metadata": {},
   "outputs": [],
   "source": [
    "import numpy as np\n",
    "#from skimage import io\n",
    "import os\n",
    "from PIL import Image"
   ]
  },
  {
   "cell_type": "code",
   "execution_count": 3,
   "id": "ce29eeff",
   "metadata": {},
   "outputs": [],
   "source": [
    "from keras.preprocessing.image import ImageDataGenerator, array_to_img, img_to_array, load_img"
   ]
  },
  {
   "cell_type": "code",
   "execution_count": 4,
   "id": "de5ff1dd",
   "metadata": {},
   "outputs": [],
   "source": [
    "datagen = ImageDataGenerator(\n",
    "        rotation_range=45,     #Random rotation between 0 and 45\n",
    "        width_shift_range=0.2,   #% shift\n",
    "        height_shift_range=0.2,\n",
    "        shear_range=0.2,\n",
    "        zoom_range=0.0,\n",
    "        horizontal_flip=True,\n",
    "        vertical_flip=True,fill_mode=\"reflect\",cval=120) "
   ]
  },
  {
   "cell_type": "code",
   "execution_count": null,
   "id": "d328fa96",
   "metadata": {},
   "outputs": [],
   "source": [
    "#datagen = ImageDataGenerator(\n",
    "        rotation_range=45,     #Random rotation between 0 and 45\n",
    "        width_shift_range=0.2,   #% shift\n",
    "        height_shift_range=0.2,\n",
    "        shear_range=0.2,\n",
    "        zoom_range=0.0,\n",
    "        horizontal_flip=True,\n",
    "        fillmode='refe') "
   ]
  },
  {
   "cell_type": "code",
   "execution_count": null,
   "id": "5f547a9e",
   "metadata": {},
   "outputs": [],
   "source": [
    "x.shape"
   ]
  },
  {
   "cell_type": "code",
   "execution_count": null,
   "id": "f738185e",
   "metadata": {},
   "outputs": [],
   "source": [
    "!pip install numpy"
   ]
  },
  {
   "cell_type": "code",
   "execution_count": null,
   "id": "4421168a",
   "metadata": {},
   "outputs": [],
   "source": [
    "!pip install matplotlib"
   ]
  },
  {
   "cell_type": "code",
   "execution_count": null,
   "id": "b539b736",
   "metadata": {},
   "outputs": [],
   "source": [
    "!pip install matplotlib"
   ]
  },
  {
   "cell_type": "code",
   "execution_count": null,
   "id": "b1fad1df",
   "metadata": {},
   "outputs": [],
   "source": [
    "!pip install scipy"
   ]
  },
  {
   "cell_type": "code",
   "execution_count": null,
   "id": "f771e17e",
   "metadata": {},
   "outputs": [],
   "source": [
    "!pip install scikit-image"
   ]
  },
  {
   "cell_type": "code",
   "execution_count": 5,
   "id": "65f5555b",
   "metadata": {},
   "outputs": [],
   "source": [
    "dataset = []\n",
    "\n",
    "import numpy as np\n",
    "from skimage import io\n",
    "import os\n",
    "from PIL import Image\n",
    "\n",
    "image_directory = 'D:/Desktop/aug/Abnormal/'\n",
    "SIZE = 128\n",
    "dataset = []\n",
    "\n",
    "my_images = os.listdir(image_directory)\n",
    "for i, image_name in enumerate(my_images):\n",
    "    if (image_name.split('.')[1] == 'jpg'):\n",
    "        image = io.imread(image_directory + image_name)\n",
    "        image = Image.fromarray(image, 'RGB')\n",
    "        image = image.resize((SIZE,SIZE))\n",
    "        dataset.append(np.array(image))\n",
    "\n",
    "x = np.array(dataset)"
   ]
  },
  {
   "cell_type": "code",
   "execution_count": 6,
   "id": "6bf70128",
   "metadata": {},
   "outputs": [
    {
     "name": "stdout",
     "output_type": "stream",
     "text": [
      "['c1005.jpg', 'c1007.jpg', 'c1008.jpg', 'c1025.jpg', 'c103.jpg', 'c1030.jpg', 'c1044.jpg', 'c1048.jpg', 'c1049.jpg', 'c1050.jpg', 'c1051.jpg', 'c1068.jpg', 'c1076.jpg', 'c1088.jpg', 'c109.jpg', 'c1093.jpg', 'c1098.jpg', 'c119.jpg', 'c124.jpg', 'c128.jpg', 'c133.jpg', 'c141.jpg', 'c145.jpg', 'c15.jpg', 'c150.jpg', 'c158.jpg', 'c162.jpg', 'c167.jpg', 'c176.jpg', 'c182.jpg', 'c192.jpg', 'c197.jpg', 'c201.jpg', 'c206.jpg', 'c21.jpg', 'c211.jpg', 'c215.jpg', 'c219.jpg', 'c23.jpg', 'c230.jpg', 'c236.jpg', 'c246.jpg', 'c251.jpg', 'c255.jpg', 'c260.jpg', 'c263.jpg', 'c268.jpg', 'c276.jpg', 'c28.jpg', 'c280.jpg', 'c285.jpg', 'c294.jpg', 'c3.jpg', 'c300.jpg', 'c310.jpg', 'c315.jpg', 'c319.jpg', 'c32.jpg', 'c324.jpg', 'c329.jpg', 'c333.jpg', 'c337.jpg', 'c348.jpg', 'c354.jpg', 'c36.jpg', 'c364.jpg', 'c369.jpg', 'c378.jpg', 'c385.jpg', 'c390.jpg', 'c394.jpg', 'c399.jpg', 'c407.jpg', 'c411.jpg', 'c416.jpg', 'c425.jpg', 'c431.jpg', 'c441.jpg', 'c446.jpg', 'c450.jpg', 'c455.jpg', 'c463.jpg', 'c467.jpg', 'c47.jpg', 'c472.jpg', 'c480.jpg', 'c484.jpg', 'c489.jpg', 'c498.jpg', 'c5.jpg', 'c504.jpg', 'c514.jpg', 'c519.jpg', 'c523.jpg', 'c528.jpg', 'c53.jpg', 'c533.jpg', 'c537.jpg', 'c541.jpg', 'c552.jpg', 'c558.jpg', 'c568.jpg', 'c573.jpg', 'c577.jpg', 'c582.jpg', 'c585.jpg', 'c590.jpg', 'c598.jpg', 'c602.jpg', 'c607.jpg', 'c616.jpg', 'c622.jpg', 'c63.jpg', 'c632.jpg', 'c637.jpg', 'c641.jpg', 'c646.jpg', 'c651.jpg', 'c655.jpg', 'c659.jpg', 'c670.jpg', 'c676.jpg', 'c68.jpg', 'c686.jpg', 'c691.jpg', 'c695.jpg', 'c7.jpg', 'c700.jpg', 'c703.jpg', 'c707.jpg', 'c712.jpg', 'c718.jpg', 'c72.jpg', 'c724.jpg', 'c73.jpg', 'c734.jpg', 'c739.jpg', 'c743.jpg', 'c748.jpg', 'c756.jpg', 'c760.jpg', 'c765.jpg', 'c77.jpg', 'c774.jpg', 'c780.jpg', 'c790.jpg', 'c795.jpg', 'c799.jpg', 'c804.jpg', 'c812.jpg', 'c816.jpg', 'c821.jpg', 'c829.jpg', 'c833.jpg', 'c838.jpg', 'c847.jpg', 'c85.jpg', 'c853.jpg', 'c863.jpg', 'c868.jpg', 'c872.jpg', 'c877.jpg', 'c882.jpg', 'c886.jpg', 'c89.jpg', 'c890.jpg', 'c901.jpg', 'c907.jpg', 'c917.jpg', 'c922.jpg', 'c926.jpg', 'c931.jpg', 'c934.jpg', 'c939.jpg', 'c94.jpg', 'c947.jpg', 'c951.jpg', 'c956.jpg', 'c965.jpg', 'c971.jpg', 'c981.jpg', 'c986.jpg', 'c990.jpg', 'c995.jpg', 'c999.jpg']\n"
     ]
    }
   ],
   "source": [
    "print(my_images )"
   ]
  },
  {
   "cell_type": "code",
   "execution_count": 7,
   "id": "0a1a7c95",
   "metadata": {},
   "outputs": [],
   "source": [
    "datagen.fit(x.reshape(185, 128, 128, 3))"
   ]
  },
  {
   "cell_type": "code",
   "execution_count": 9,
   "id": "beacbd86",
   "metadata": {},
   "outputs": [],
   "source": [
    "i = 0\n",
    "for batch in datagen.flow(x, batch_size=16,  \n",
    "                          save_to_dir='D:/Desktop/dl/preview/', \n",
    "                          save_prefix='D:/Desktop/dl/preview/', \n",
    "                          save_format='jpg'):\n",
    "    i += 1\n",
    "    if i > 20:\n",
    "        break"
   ]
  },
  {
   "cell_type": "code",
   "execution_count": null,
   "id": "1da096ea",
   "metadata": {},
   "outputs": [],
   "source": []
  }
 ],
 "metadata": {
  "kernelspec": {
   "display_name": "Python 3 (ipykernel)",
   "language": "python",
   "name": "python3"
  },
  "language_info": {
   "codemirror_mode": {
    "name": "ipython",
    "version": 3
   },
   "file_extension": ".py",
   "mimetype": "text/x-python",
   "name": "python",
   "nbconvert_exporter": "python",
   "pygments_lexer": "ipython3",
   "version": "3.8.13"
  }
 },
 "nbformat": 4,
 "nbformat_minor": 5
}
